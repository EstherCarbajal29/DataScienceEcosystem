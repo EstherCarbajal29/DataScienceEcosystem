{
 "cells": [
  {
   "cell_type": "markdown",
   "id": "bb45b43e-428f-4240-a256-cf6058be1273",
   "metadata": {},
   "source": [
    "# Data Science Tools and Ecosystem"
   ]
  },
  {
   "cell_type": "markdown",
   "id": "d437ae3d-1711-4f46-9795-3da4ace5af5e",
   "metadata": {},
   "source": [
    "In this notebook. Date Science Tools Ecosystem are summarized."
   ]
  },
  {
   "cell_type": "markdown",
   "id": "e734986c-5217-42dd-8431-ea5ad9adbf30",
   "metadata": {},
   "source": [
    "Create a markdown cell to list data science languages.\n",
    "1. Python\n",
    "2. R\n",
    "3. SQL\n",
    "4. Julia\n",
    "5. Java\n",
    "6. MATLAB\n",
    "7. C++ etc..;"
   ]
  },
  {
   "cell_type": "markdown",
   "id": "7982412d-bd88-4258-9e42-0a4adf648e82",
   "metadata": {},
   "source": [
    "Create a markdown cell to list data science libraries.\n",
    "\n",
    "1. SciPy.\n",
    "2. TensorFlow.\n",
    "3. NumPy.\n",
    "4. Pandas.\n",
    "5. Pytorch.\n",
    "6. Keras.\n",
    "7. Matplotlib. etc..;ch.\n"
   ]
  },
  {
   "cell_type": "markdown",
   "id": "6a654281-f4a2-4424-9ff9-3d481fedb8db",
   "metadata": {},
   "source": [
    "Create a markdown cell with a table of Data Science tools.\n",
    "|Science tools|\n",
    "|---|\n",
    "|Jupyter Notebook|\n",
    "|RStudio|\n",
    "|Apache Spark|"
   ]
  },
  {
   "cell_type": "markdown",
   "id": "43835d2c-6d64-433f-997e-bd9c6102ec69",
   "metadata": {},
   "source": [
    "### Below area a few examples of evaluating arithmatic expressaiona in Python."
   ]
  },
  {
   "cell_type": "code",
   "execution_count": null,
   "id": "176dc94b-6888-47f0-be13-85cd829b0550",
   "metadata": {},
   "outputs": [],
   "source": [
    "# This a simple arithmetic expression to mutiply then add integers \n",
    "eval = (3 * 4) + 5\n",
    "print(eval)"
   ]
  },
  {
   "cell_type": "code",
   "execution_count": null,
   "id": "21d71357-d0ee-4c21-a7d7-d58565d393d6",
   "metadata": {},
   "outputs": [],
   "source": [
    "# In this code cell write an expression that converts 200 minutes into hours.\n",
    "print(200/6)"
   ]
  },
  {
   "cell_type": "code",
   "execution_count": null,
   "id": "67d24d41-3686-404e-bb53-101d6e771bfd",
   "metadata": {},
   "outputs": [],
   "source": [
    "**Objectives:** List popular languages for Data Science.\n",
    "- Python.\n",
    "- SQL.\n",
    "- R.\n",
    "- Java.\n",
    "- Julia."
   ]
  },
  {
   "cell_type": "code",
   "execution_count": null,
   "id": "33b139e1-3113-4db1-b800-ddedceb534e4",
   "metadata": {},
   "outputs": [],
   "source": [
    "## Author\n",
    "name : Esther CarbajalEspino"
   ]
  }
 ],
 "metadata": {
  "kernelspec": {
   "display_name": "Python 3 (ipykernel)",
   "language": "python",
   "name": "python3"
  },
  "language_info": {
   "codemirror_mode": {
    "name": "ipython",
    "version": 3
   },
   "file_extension": ".py",
   "mimetype": "text/x-python",
   "name": "python",
   "nbconvert_exporter": "python",
   "pygments_lexer": "ipython3",
   "version": "3.11.7"
  }
 },
 "nbformat": 4,
 "nbformat_minor": 5
}
